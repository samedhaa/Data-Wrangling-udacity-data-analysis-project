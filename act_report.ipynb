{
 "cells": [
  {
   "cell_type": "markdown",
   "metadata": {},
   "source": [
    "# Visualize some part of the dataset"
   ]
  },
  {
   "cell_type": "code",
   "execution_count": 1,
   "metadata": {},
   "outputs": [],
   "source": [
    "import pandas as pd\n",
    "import numpy as np\n",
    "import matplotlib.pyplot as plt\n",
    "import seaborn as sns\n",
    "%matplotlib inline\n"
   ]
  },
  {
   "cell_type": "code",
   "execution_count": 50,
   "metadata": {},
   "outputs": [],
   "source": [
    "df = pd.read_csv('twitter_archive_master.csv')"
   ]
  },
  {
   "cell_type": "markdown",
   "metadata": {},
   "source": [
    "## Insight 1 :\n",
    "○ The 'golden_retriever' dog type is the most common dog that has been rated.\n",
    "\n"
   ]
  },
  {
   "cell_type": "code",
   "execution_count": 33,
   "metadata": {},
   "outputs": [
    {
     "data": {
      "text/plain": [
       "golden_retriever             556\n",
       "Labrador_retriever           380\n",
       "Pembroke                     352\n",
       "Chihuahua                    316\n",
       "pug                          216\n",
       "chow                         164\n",
       "Samoyed                      160\n",
       "Pomeranian                   152\n",
       "toy_poodle                   152\n",
       "malamute                     116\n",
       "cocker_spaniel               108\n",
       "French_bulldog               100\n",
       "Chesapeake_Bay_retriever      92\n",
       "miniature_pinscher            88\n",
       "seat_belt                     84\n",
       "German_shepherd               80\n",
       "Siberian_husky                80\n",
       "Staffordshire_bullterrier     76\n",
       "Eskimo_dog                    72\n",
       "Shetland_sheepdog             72\n",
       "teddy                         72\n",
       "Maltese_dog                   72\n",
       "Shih-Tzu                      68\n",
       "beagle                        68\n",
       "Cardigan                      68\n",
       "Rottweiler                    68\n",
       "Italian_greyhound             64\n",
       "kuvasz                        64\n",
       "Lakeland_terrier              64\n",
       "web_site                      60\n",
       "                            ... \n",
       "bonnet                         4\n",
       "bib                            4\n",
       "ping-pong_ball                 4\n",
       "shield                         4\n",
       "revolver                       4\n",
       "crash_helmet                   4\n",
       "fire_engine                    4\n",
       "school_bus                     4\n",
       "lawn_mower                     4\n",
       "nail                           4\n",
       "sliding_door                   4\n",
       "lynx                           4\n",
       "bearskin                       4\n",
       "studio_couch                   4\n",
       "carton                         4\n",
       "hay                            4\n",
       "mortarboard                    4\n",
       "dining_table                   4\n",
       "rotisserie                     4\n",
       "bighorn                        4\n",
       "long-horned_beetle             4\n",
       "picket_fence                   4\n",
       "bookshop                       4\n",
       "cup                            4\n",
       "espresso                       4\n",
       "marmot                         4\n",
       "earthstar                      4\n",
       "bison                          4\n",
       "leopard                        4\n",
       "four-poster                    4\n",
       "Name: Prediction1, Length: 374, dtype: int64"
      ]
     },
     "execution_count": 33,
     "metadata": {},
     "output_type": "execute_result"
    }
   ],
   "source": [
    "df['Prediction1'].value_counts()\n"
   ]
  },
  {
   "cell_type": "markdown",
   "metadata": {},
   "source": [
    "###### as we can see that the golden_retriever dog type is the most dog that has been rated in the whole dataset were in the other had there is a lot of dogs types that has just been rated 4 times such as like (four-poster, leopard, bison, earthstar, marmot) , where is sixty dogs has been classified as a 'web_site' :P which shows some flaws in the neural network or it could be just missy data."
   ]
  },
  {
   "cell_type": "markdown",
   "metadata": {},
   "source": [
    "## Insight 2 : \n",
    "○ there is a correlation between the number of tweets and the number of favourites it gets."
   ]
  },
  {
   "cell_type": "code",
   "execution_count": 47,
   "metadata": {},
   "outputs": [
    {
     "data": {
      "text/plain": [
       "Text(0.5,1,'scatter plot of retweets and scatter plot')"
      ]
     },
     "execution_count": 47,
     "metadata": {},
     "output_type": "execute_result"
    },
    {
     "data": {
      "image/png": "[encoded data removed]",
      "text/plain": [
       "<Figure size 432x288 with 1 Axes>"
      ]
     },
     "metadata": {},
     "output_type": "display_data"
    }
   ],
   "source": [
    "df.plot(kind='scatter',x='favorites',y='retweets', alpha = 0.5)\n",
    "plt.xlabel('the number of favorites')\n",
    "plt.ylabel('the number of retweets')\n",
    "plt.title('scatter plot of retweets and scatter plot')\n"
   ]
  },
  {
   "cell_type": "markdown",
   "metadata": {},
   "source": [
    "###### as we can see there is a correlation between the number of retweets and the favoirits for every tweet which shows how humans could react more positevly for the tweets or posts that they likes better ."
   ]
  },
  {
   "cell_type": "markdown",
   "metadata": {},
   "source": [
    "## Insight 3 : \n",
    "○ The overall average for ratings is 12/10 "
   ]
  },
  {
   "cell_type": "code",
   "execution_count": 48,
   "metadata": {},
   "outputs": [
    {
     "data": {
      "text/plain": [
       "12      1796\n",
       "10      1676\n",
       "11      1584\n",
       "13      1044\n",
       "9        604\n",
       "8        380\n",
       "7        208\n",
       "14       140\n",
       "5        132\n",
       "6        128\n",
       "3         76\n",
       "4         64\n",
       "2         36\n",
       "1         20\n",
       "0          8\n",
       "45         4\n",
       "84         4\n",
       "75         4\n",
       "27         4\n",
       "50         4\n",
       "24         4\n",
       "44         4\n",
       "60         4\n",
       "80         4\n",
       "88         4\n",
       "121        4\n",
       "144        4\n",
       "204        4\n",
       "420        4\n",
       "1776       4\n",
       "26         4\n",
       "165        4\n",
       "99         4\n",
       "143        4\n",
       "Name: rating_numerator, dtype: int64"
      ]
     },
     "execution_count": 48,
     "metadata": {},
     "output_type": "execute_result"
    }
   ],
   "source": [
    "df['rating_numerator'].value_counts()\n"
   ]
  },
  {
   "cell_type": "markdown",
   "metadata": {},
   "source": [
    "###### it seems like that the most rate has been given to dogs is 12/10 and also that 10/10 is the most second rate has been given , and we can see that 14/10 has been given for just 140 types of dogs."
   ]
  },
  {
   "cell_type": "markdown",
   "metadata": {},
   "source": [
    "## Conclusion :"
   ]
  },
  {
   "cell_type": "markdown",
   "metadata": {},
   "source": [
    "We noticed that the most 10 dog types that has been rated are: \n",
    "golden_retriever ,\n",
    "Labrador_retriever, \n",
    "Pembroke ,\n",
    "Chihuahua,\n",
    "pug,\n",
    "chow,\n",
    "Samoyed,\n",
    "Pomeranian,\n",
    "toy_poodle,\n",
    "malamute.\n",
    "\n"
   ]
  },
  {
   "cell_type": "markdown",
   "metadata": {},
   "source": [
    "We also noticed that when the facourites are going higher the retweets getting higher too... that might be because people who liked a certain tweet they use to engage more with that tweet. "
   ]
  },
  {
   "cell_type": "markdown",
   "metadata": {},
   "source": [
    "We noticed that the most rate has been put for a dog is 12 , and also that there is exist rating with 'less that 10'."
   ]
  },
  {
   "cell_type": "code",
   "execution_count": null,
   "metadata": {},
   "outputs": [],
   "source": []
  }
 ],
 "metadata": {
  "kernelspec": {
   "display_name": "Python 3",
   "language": "python",
   "name": "python3"
  },
  "language_info": {
   "codemirror_mode": {
    "name": "ipython",
    "version": 3
   },
   "file_extension": ".py",
   "mimetype": "text/x-python",
   "name": "python",
   "nbconvert_exporter": "python",
   "pygments_lexer": "ipython3",
   "version": "3.6.5"
  }
 },
 "nbformat": 4,
 "nbformat_minor": 2
}
