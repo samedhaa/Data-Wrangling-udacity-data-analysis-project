{
 "cells": [
  {
   "cell_type": "markdown",
   "metadata": {},
   "source": [
    "# Wrangle Report\n",
    "\n",
    "###### the datasets that has been provided was a great way to learn about data wrangling were i had to use the three stages of data wrangling (gather, asses, clean).  \n",
    "  \n",
    "  \n",
    "###### with gathering i had to gather one dataset from udacity(udacity provided to download manually) resource and the other using Request library in python because the data were in a url and then i had to use Twitter API to gather the last data.  \n",
    "\n",
    "###### one of the interesting datasets was the image_prediction dataset were a neural network has been used to classify breeds of dogs , the results: a table full of image predictions (the top three only) alongside each tweet ID, image URL, and the image number that corresponded to the most confident prediction (numbered 1 to 4 since tweets can have up to four images).\n",
    "\n",
    "\n",
    "\n",
    "###### in the assesing i defined tidy and quality data issues that are in those three datasets i gathered by visualizing by viewing the data on excel sheet the data and then programmatically by using different python pandas tools \n",
    "   \n",
    "###### the the cleaning proccess i fixed the tidy and quality issues using coding , and then i tested if what i did fixed the problem, i used to define the isuue before start coding , there were many issues to fix so the data can be ready to be visualized properly.\n",
    "\n",
    "###### one of the problems i had is with garhering the data from Twitter, also i was fascinated by how people would engage with such content on the internet.  \n",
    "\n",
    "###### i made 3 insights and a visulization about the dataset after storing the datasets in just one dataset\n",
    "\n",
    "###### it was an interesting dataset with 5000+ tweets about rated dogs from a twitter account known as @WeRateDogs."
   ]
  },
  {
   "cell_type": "markdown",
   "metadata": {},
   "source": [
    "# Conclusion \n",
    "###### Data wrangling is one of the most interesting and neccessary proccesses for data analysis.\n",
    "###### i used python language for both \"wrangling the data and visualize it\" "
   ]
  },
  {
   "cell_type": "code",
   "execution_count": null,
   "metadata": {},
   "outputs": [],
   "source": []
  }
 ],
 "metadata": {
  "kernelspec": {
   "display_name": "Python 3",
   "language": "python",
   "name": "python3"
  },
  "language_info": {
   "codemirror_mode": {
    "name": "ipython",
    "version": 3
   },
   "file_extension": ".py",
   "mimetype": "text/x-python",
   "name": "python",
   "nbconvert_exporter": "python",
   "pygments_lexer": "ipython3",
   "version": "3.6.5"
  }
 },
 "nbformat": 4,
 "nbformat_minor": 2
}
